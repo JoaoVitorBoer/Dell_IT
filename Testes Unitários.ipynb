{
 "cells": [
  {
   "cell_type": "code",
   "execution_count": 1,
   "id": "69e0d480",
   "metadata": {},
   "outputs": [],
   "source": [
    "import pandas as pd\n",
    "import string\n",
    "import unidecode\n",
    "import time\n",
    "import os\n",
    "\n",
    "df = pd.read_csv(r\"br-capes-bolsistas-uab.csv\", sep=';', encoding='latin-1')\n"
   ]
  },
  {
   "cell_type": "markdown",
   "id": "f3c01b19",
   "metadata": {},
   "source": [
    "### Testando a consulta bolsista ano zero"
   ]
  },
  {
   "cell_type": "code",
   "execution_count": 3,
   "id": "4532ed7f",
   "metadata": {},
   "outputs": [
    {
     "name": "stdout",
     "output_type": "stream",
     "text": [
      "True\n"
     ]
    }
   ],
   "source": [
    "anos = [2014,2015,2013,2016]\n",
    "achou = False\n",
    " \n",
    "for ano in anos:\n",
    "    for i, info in enumerate(df['AN_REFERENCIA']):\n",
    "        if ano == info:\n",
    "            index = i\n",
    "            if df.iloc[index, 0] == 'JOSE QUERGINALDO BEZERRA': achou = True #2013\n",
    "            if df.iloc[index, 0] == 'CAROLINE ALCANTARA DUARTE': achou = True #2014\n",
    "            if df.iloc[index, 0] == 'CICERO SARAIVA SOBRINHO': achou = True #2015\n",
    "            if df.iloc[index, 0] == 'ALEXANDRE RIBEIRO NETO': achou = True #2016     \n",
    "            \n",
    "        \n",
    "print(achou)      "
   ]
  },
  {
   "cell_type": "markdown",
   "id": "6686c398",
   "metadata": {},
   "source": [
    "### Codificar Nomes"
   ]
  },
  {
   "cell_type": "markdown",
   "id": "8e409adf",
   "metadata": {},
   "source": [
    "* O objetivo principal desse teste é ver se o programa funcionaria com cada nome que tem na tabela. Então se por acaso der algum erro, eu saberei que tem algo a mais para tratar."
   ]
  },
  {
   "cell_type": "markdown",
   "id": "94c2f69e",
   "metadata": {},
   "source": [
    "* Essa parte demora para rodar, se for cancelada no meio, irá indicar incorretamente um erro"
   ]
  },
  {
   "cell_type": "code",
   "execution_count": null,
   "id": "085e216f",
   "metadata": {},
   "outputs": [],
   "source": [
    "def editar_texto(nome):\n",
    "    \n",
    "    nome = nome.upper() # Transformando para Maiúsculo\n",
    "    nome = unidecode.unidecode(nome) # Retirando Acentos\n",
    "    nomes_vetor = nome.split() # Colocando cada palavra do nome com se fosse um item de um vetor\n",
    "    vetor_palavras = []\n",
    "\n",
    "    for palavra in nomes_vetor:\n",
    "        for letra in palavra:\n",
    "            if letra.isalnum() == False and letra != \" \": # verificando se há caracter especial\n",
    "                palavra = palavra.replace(letra, \"\") # Trocando o  caracter especial por \"nada\"\n",
    "        vetor_palavras.append(palavra) \n",
    "\n",
    "    return \"\".join(vetor_palavras)  # Juntando os itens do vetor para formar uma palavra\n",
    "\n",
    "\n",
    "\n",
    "def codificador(nome): \n",
    "    \n",
    "    nome = nome[-1:] + nome[1:-1] + nome[:1]  # Fazendo o swap da primeira com a última letra\n",
    "\n",
    "    if len(nome) >= 4:                       # Se a palavra tiver menos de 4 letras só o swap é necessário, senao, temos que inverter\n",
    "        nome = nome[::-1]                   # Invertendo a string\n",
    "\n",
    "    vet_nome = []\n",
    "    alfabeto = string.ascii_uppercase #Criando um vetor com o alfabeto MAIUSCULO\n",
    "    \n",
    "    # For´s para mudar letra por letra\n",
    "    for j in range(len(nome)):\n",
    "        for i in range(len(alfabeto)):\n",
    "            if nome[j] == alfabeto[i]:\n",
    "                if nome[j] == 'Z':      #Z é especial pois é o ultimo do vetor, então não existira um próximo\n",
    "                    letra_new = nome[j].replace('Z', 'A')\n",
    "                    vet_nome.append(letra_new)\n",
    "                else:   \n",
    "                    letra_new = nome[j].replace(nome[j], alfabeto[i+1])  # Mudando para o próximo carácter\n",
    "                    vet_nome.append(letra_new )\n",
    "   \n",
    "    return \"\".join(vet_nome)  #vet_nome = ['a','b','c']  -> .join -> vet_nome = ['abc']\n",
    "\n",
    "\n",
    "for name in df['NM_BOLSISTA']:\n",
    "    try:\n",
    "        \n",
    "        nome_completo = name.split() # Separando cada nome digitado como se fosse um item do vetor, para facilitar o tratamento\n",
    "\n",
    "        nomes_vetor = []\n",
    "        nome_editado = []\n",
    "\n",
    "        for nome in nome_completo:\n",
    "            nome_editado.append(editar_texto(nome)) # Exemplo nome_editado = ['JOAO', 'VITOR']\n",
    "\n",
    "                \n",
    "        # For que acha o bolsista mesmo se a pessoa não digitar o nome dele em ordem ou completo.\n",
    "        for nome_bolsista in df['NM_BOLSISTA']:  \n",
    "            iguais = set(nome_editado).intersection(nome_bolsista.split())  # Verifica quais itens dos vetores são iguais.\n",
    "            if len(iguais) == len(nome_editado):          # Se todos itens forem iguais, então os vetores tem tamanho iguais,\n",
    "                nome_bolsista_completo = nome_bolsista   # isso signififca que encontramos a pessoa procurada.\n",
    "                break\n",
    "\n",
    "\n",
    "        for nome in nome_bolsista_completo.split(): # Codificando os nomes\n",
    "            nomes_vetor.append(codificador(nome) + \" \") # O espaço é para garantir que na junção do vetor os nomes fiquem separados\n",
    "            nome_pronto_codificado = \"\".join(nomes_vetor)\n",
    "\n",
    "\n",
    "            \n",
    "    except:\n",
    "            print(f\"Não encontramos {nome_completo} na nossa base de dados. Por favor, tente novamente!\")"
   ]
  },
  {
   "cell_type": "markdown",
   "id": "c29c843d",
   "metadata": {},
   "source": [
    "###  Ranking de bolsas"
   ]
  },
  {
   "cell_type": "markdown",
   "id": "522a60a2",
   "metadata": {},
   "source": [
    "* Com o comando abaixo, vemos todos os valores disponíveis na coluna e bolsa, então ja sabemos os maiores e os menores"
   ]
  },
  {
   "cell_type": "code",
   "execution_count": 12,
   "id": "baedb4bc",
   "metadata": {},
   "outputs": [
    {
     "data": {
      "text/plain": [
       "765     51247\n",
       "1300    18549\n",
       "1100     7501\n",
       "1400     2048\n",
       "1500      670\n",
       "Name: VL_BOLSISTA_PAGAMENTO, dtype: int64"
      ]
     },
     "execution_count": 12,
     "metadata": {},
     "output_type": "execute_result"
    }
   ],
   "source": [
    "df['VL_BOLSISTA_PAGAMENTO'].value_counts()"
   ]
  }
 ],
 "metadata": {
  "kernelspec": {
   "display_name": "Python 3",
   "language": "python",
   "name": "python3"
  },
  "language_info": {
   "codemirror_mode": {
    "name": "ipython",
    "version": 3
   },
   "file_extension": ".py",
   "mimetype": "text/x-python",
   "name": "python",
   "nbconvert_exporter": "python",
   "pygments_lexer": "ipython3",
   "version": "3.8.8"
  }
 },
 "nbformat": 4,
 "nbformat_minor": 5
}
